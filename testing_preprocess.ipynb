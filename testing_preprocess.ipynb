{
 "cells": [
  {
   "cell_type": "markdown",
   "metadata": {},
   "source": [
    "### Preprocess test data\n",
    "#### by Krysten Nguyen - mpn6647\n",
    "First, load the pipeline with imputation, normalization and best performing model with pickle"
   ]
  },
  {
   "cell_type": "code",
   "execution_count": 2,
   "metadata": {},
   "outputs": [
    {
     "name": "stdout",
     "output_type": "stream",
     "text": [
      "Pipeline(steps=[('imputer', SimpleImputer(missing_values=0)),\n",
      "                ('scaler', MinMaxScaler()),\n",
      "                ('mlp',\n",
      "                 MLPClassifier(alpha=0.01, hidden_layer_sizes=(8,),\n",
      "                               max_iter=1000))])\n"
     ]
    }
   ],
   "source": [
    "import pickle\n",
    "\n",
    "with open('pipeline.pkl', 'rb') as f:\n",
    "    pipeline = pickle.load(f)\n",
    "    print(pipeline)"
   ]
  },
  {
   "cell_type": "code",
   "execution_count": 4,
   "metadata": {},
   "outputs": [],
   "source": [
    "import pandas as pd\n",
    "FILENAME = 'PimaIndianDiabetes.csv' #### Change this to the path of your test file\n",
    "data = pd.read_csv(FILENAME)\n",
    "\n",
    "X = data.drop('Outcome', axis=1)\n",
    "y = data['Outcome']"
   ]
  },
  {
   "cell_type": "markdown",
   "metadata": {},
   "source": [
    "Test data when passed in function predict or scored, will be transformed through imputation and scaling using the parameters learned during the fitting step on the training data. "
   ]
  },
  {
   "cell_type": "code",
   "execution_count": 7,
   "metadata": {},
   "outputs": [
    {
     "name": "stdout",
     "output_type": "stream",
     "text": [
      "Accuracy:  0.7769461077844312\n",
      "AUROC:  0.8434723171565277\n"
     ]
    }
   ],
   "source": [
    "\n",
    "from sklearn.metrics import accuracy_score, roc_auc_score\n",
    "y_pred_proba= pipeline.predict_proba(X)\n",
    "y_pred = pipeline.predict(X)\n",
    "print('Accuracy: ', accuracy_score(y, y_pred))\n",
    "print('AUROC: ', roc_auc_score(y, y_pred_proba[:,1]))\n",
    "\n",
    "\n",
    "\n",
    "\n"
   ]
  },
  {
   "cell_type": "code",
   "execution_count": null,
   "metadata": {},
   "outputs": [],
   "source": []
  }
 ],
 "metadata": {
  "kernelspec": {
   "display_name": "base",
   "language": "python",
   "name": "python3"
  },
  "language_info": {
   "codemirror_mode": {
    "name": "ipython",
    "version": 3
   },
   "file_extension": ".py",
   "mimetype": "text/x-python",
   "name": "python",
   "nbconvert_exporter": "python",
   "pygments_lexer": "ipython3",
   "version": "3.11.5"
  }
 },
 "nbformat": 4,
 "nbformat_minor": 2
}
